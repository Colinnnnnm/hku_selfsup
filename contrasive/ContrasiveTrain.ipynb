{
 "cells": [
  {
   "cell_type": "code",
   "execution_count": 1,
   "id": "e5113aec-63e6-413d-a7cf-b4656bfb2864",
   "metadata": {},
   "outputs": [],
   "source": [
    "import torch\n",
    "import numpy as np\n",
    "import glob\n",
    "from torchvision import transforms\n",
    "from PIL import Image\n",
    "from torch.utils.data import Dataset, DataLoader\n",
    "import matplotlib.pyplot as plt\n",
    "import argparse"
   ]
  },
  {
   "cell_type": "code",
   "execution_count": 9,
   "id": "421b75ed-9dee-4b70-8dff-82efba00aa48",
   "metadata": {},
   "outputs": [],
   "source": [
    "class ContrasiveDataset(Dataset):\n",
    "    def __init__(self,train_folder,image_size = 280):\n",
    "        self.train_folder =  train_folder\n",
    "        self.data = glob.glob(train_folder)\n",
    "        self.transform = transforms.Compose([\n",
    "            transforms.Resize((image_size, image_size)),\n",
    "            transforms.ToTensor(),\n",
    "        ])\n",
    "        self.grey_transform = transforms.Compose([\n",
    "            transforms.Resize((image_size, image_size)),\n",
    "            transforms.ToTensor(),\n",
    "            transforms.Lambda(lambda x: torch.cat([x, x, x], 0))\n",
    "        ])\n",
    "    def __getitem__(self, index):\n",
    "        '''\n",
    "        Accept pid for the identity\n",
    "        Return all the image of of it\n",
    "        '''\n",
    "        return self.load_img(self.data[index])\n",
    "    \n",
    "    def load_img(self,path):\n",
    "        with open(path,\"rb\") as f:\n",
    "            img = Image.open(f)\n",
    "            img.load()\n",
    "            grey= Image.open(f).convert('L')\n",
    "            grey.load()\n",
    "        return self.transform(img), self.grey_transform(grey)\n",
    "            \n",
    "    def __len__(self):\n",
    "        return len(self.data)\n",
    "    \n",
    "    \n",
    "def get_train_loader(path, **kwargs):\n",
    "    dataset = ContrasiveDataset(path,**kwargs)\n",
    "    return DataLoader(dataset,4)"
   ]
  },
  {
   "cell_type": "code",
   "execution_count": 10,
   "id": "87d68bb6-8398-419f-8050-0ee1328b3a44",
   "metadata": {},
   "outputs": [],
   "source": [
    "path = \"../dataset/market1501/Market1501/bounding_box_train/*.jpg\""
   ]
  },
  {
   "cell_type": "code",
   "execution_count": 11,
   "id": "ec826cbd-cef8-48ec-ab45-4c6db58818b3",
   "metadata": {},
   "outputs": [],
   "source": [
    "train_loader = get_train_loader(path)"
   ]
  },
  {
   "cell_type": "code",
   "execution_count": 12,
   "id": "c63c0ccd-0a1c-4c53-a762-db31b023eb2c",
   "metadata": {},
   "outputs": [],
   "source": [
    "def train_constraive_learning(model, train_loader, args):\n",
    "    optimizer = torch.optim.Adam(lr=args.lr, weight_decay=args.weight_decay)\n",
    "    "
   ]
  },
  {
   "cell_type": "code",
   "execution_count": 13,
   "id": "3e72f7cd-5d38-4c39-b188-bf0f9b267944",
   "metadata": {},
   "outputs": [],
   "source": [
    "def main():\n",
    "    args = parser.parse_args()\n",
    "    model = torch.hub.load('facebookresearch/dinov2', 'dinov2_vits14') # replace by your saved model\n",
    "    train_loader = get_train_loader(args.dataset)\n",
    "    # path = \"../dataset/market1501/Market1501/bounding_box_train/*.jpg\"\n",
    "    train_constraive_learning(model, train_loader, args)"
   ]
  },
  {
   "cell_type": "code",
   "execution_count": 14,
   "id": "d122357b-420c-4410-adfe-3bad17685263",
   "metadata": {},
   "outputs": [],
   "source": [
    "sample = next(iter(train_loader))"
   ]
  },
  {
   "cell_type": "code",
   "execution_count": 15,
   "id": "af62017c-6413-4121-a762-a73276731703",
   "metadata": {},
   "outputs": [],
   "source": [
    "color = sample[0]\n",
    "grey =sample[1]"
   ]
  },
  {
   "cell_type": "code",
   "execution_count": 18,
   "id": "d37aebe8-1466-4cdb-ad24-7bebb27d6070",
   "metadata": {},
   "outputs": [
    {
     "name": "stderr",
     "output_type": "stream",
     "text": [
      "Using cache found in /Users/daikeig/.cache/torch/hub/facebookresearch_dinov2_main\n",
      "xFormers not available\n",
      "xFormers not available\n"
     ]
    }
   ],
   "source": [
    "model = torch.hub.load('facebookresearch/dinov2', 'dinov2_vits14')"
   ]
  },
  {
   "cell_type": "code",
   "execution_count": 19,
   "id": "4b8acd7d-70e4-481b-ac45-24f0483a9fdf",
   "metadata": {},
   "outputs": [],
   "source": [
    "loss = torch.nn.CrossEntropyLoss()"
   ]
  },
  {
   "cell_type": "code",
   "execution_count": 20,
   "id": "a26af78a-92ef-4fe4-81cf-1b8b4a85b3dc",
   "metadata": {},
   "outputs": [],
   "source": [
    "color_embedding = model(color)"
   ]
  },
  {
   "cell_type": "code",
   "execution_count": 23,
   "id": "d5adbaa6-b7a2-4566-85ce-d43275445854",
   "metadata": {},
   "outputs": [],
   "source": [
    "grey_embedding = model(grey)"
   ]
  },
  {
   "cell_type": "code",
   "execution_count": 24,
   "id": "346840b4-90d9-4614-a8dc-4dcb7c9257b0",
   "metadata": {},
   "outputs": [
    {
     "data": {
      "text/plain": [
       "tensor([[-1.3704,  2.3580,  2.1882,  ..., -2.0469,  1.5106,  0.4109],\n",
       "        [-4.8266, -0.2898,  1.5311,  ..., -0.3666,  1.4601,  0.5469],\n",
       "        [-5.6139,  2.1885,  4.0994,  ..., -2.6303,  1.5543, -0.8897],\n",
       "        [-4.1618,  1.7416, -0.4323,  ..., -0.8462, -0.4044,  1.9370]],\n",
       "       grad_fn=<SelectBackward0>)"
      ]
     },
     "execution_count": 24,
     "metadata": {},
     "output_type": "execute_result"
    }
   ],
   "source": [
    "color_embedding"
   ]
  },
  {
   "cell_type": "code",
   "execution_count": 25,
   "id": "1efec4d0-3628-4693-9d3f-81e79ffc8623",
   "metadata": {},
   "outputs": [
    {
     "data": {
      "text/plain": [
       "tensor([[-1.0384,  2.5348,  2.0379,  ..., -2.0586,  0.7261,  0.1235],\n",
       "        [-4.1456,  0.2656,  1.7703,  ..., -0.7090, -0.3961, -0.1105],\n",
       "        [-5.4135,  2.0006,  3.0065,  ..., -2.4226,  2.1922, -0.8414],\n",
       "        [-1.9188,  2.2350, -0.4709,  ..., -0.8757, -1.3990,  1.6791]],\n",
       "       grad_fn=<SelectBackward0>)"
      ]
     },
     "execution_count": 25,
     "metadata": {},
     "output_type": "execute_result"
    }
   ],
   "source": [
    "grey_embedding"
   ]
  },
  {
   "cell_type": "code",
   "execution_count": 26,
   "id": "4ba9c591-d500-49cf-8b3d-2574d93ca395",
   "metadata": {},
   "outputs": [
    {
     "data": {
      "text/plain": [
       "tensor(-1968.2583, grad_fn=<DivBackward1>)"
      ]
     },
     "execution_count": 26,
     "metadata": {},
     "output_type": "execute_result"
    }
   ],
   "source": [
    "loss(color_embedding,grey_embedding)"
   ]
  },
  {
   "cell_type": "code",
   "execution_count": 27,
   "id": "a3dd927a-55df-463c-9e8f-df7c8bcd8705",
   "metadata": {},
   "outputs": [],
   "source": [
    "from info_nce import InfoNCE"
   ]
  },
  {
   "cell_type": "code",
   "execution_count": null,
   "id": "1527dedd-1447-4628-860f-638804761032",
   "metadata": {},
   "outputs": [],
   "source": []
  }
 ],
 "metadata": {
  "kernelspec": {
   "display_name": "Python 3 (ipykernel)",
   "language": "python",
   "name": "python3"
  },
  "language_info": {
   "codemirror_mode": {
    "name": "ipython",
    "version": 3
   },
   "file_extension": ".py",
   "mimetype": "text/x-python",
   "name": "python",
   "nbconvert_exporter": "python",
   "pygments_lexer": "ipython3",
   "version": "3.9.16"
  }
 },
 "nbformat": 4,
 "nbformat_minor": 5
}
